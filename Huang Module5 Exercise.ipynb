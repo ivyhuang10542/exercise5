{
 "cells": [
  {
   "cell_type": "markdown",
   "metadata": {},
   "source": [
    "1. Round 4.5667 to the nearest hundreth using a build-in function, round()."
   ]
  },
  {
   "cell_type": "code",
   "execution_count": 2,
   "metadata": {},
   "outputs": [
    {
     "data": {
      "text/plain": [
       "4.57"
      ]
     },
     "execution_count": 2,
     "metadata": {},
     "output_type": "execute_result"
    }
   ],
   "source": [
    "round(4.5667,2)"
   ]
  },
  {
   "cell_type": "markdown",
   "metadata": {},
   "source": [
    "2. Convert \"657\" to an integer data type"
   ]
  },
  {
   "cell_type": "code",
   "execution_count": 6,
   "metadata": {},
   "outputs": [
    {
     "name": "stdout",
     "output_type": "stream",
     "text": [
      "{<class 'int'>}\n"
     ]
    }
   ],
   "source": [
    "y=int(657)\n",
    "print({type(y)})"
   ]
  },
  {
   "cell_type": "markdown",
   "metadata": {},
   "source": [
    "3.\n",
    "Write a program to get two numbers from a user. Then, create a secret code where a code consists of 6 numbers and each number is randomly generated number between two numbers from a user. "
   ]
  },
  {
   "cell_type": "code",
   "execution_count": 13,
   "metadata": {},
   "outputs": [
    {
     "name": "stdout",
     "output_type": "stream",
     "text": [
      "Give me a number:1\n",
      "Give me another number:9\n",
      "Secret code is 1,3,8,7,6,2\n"
     ]
    }
   ],
   "source": [
    "import random as rand\n",
    "num1=int(input(\"Give me a number:\"))\n",
    "num2=int(input(\"Give me another number:\"))\n",
    "c1 = rand.randint(num1, num2)\n",
    "c2 = rand.randint(num1, num2)\n",
    "c3 = rand.randint(num1, num2)\n",
    "c4 = rand.randint(num1, num2)\n",
    "c5 = rand.randint(num1, num2)\n",
    "c6 = rand.randint(num1, num2)\n",
    "print(f\"Secret code is {c1},{c2},{c3},{c4},{c5},{c6}\")"
   ]
  },
  {
   "cell_type": "markdown",
   "metadata": {},
   "source": [
    "4.\n",
    "Write a program to center align below text where number of characters per line is 40:\n",
    "\n",
    "    Hickory, dickory, dock,\n",
    "    The mouse ran up the clock.\n",
    "    The clock struck one,\n",
    "    The mouse ran down,\n",
    "    Hickory, dickory, dock\n",
    "\n",
    "<b>Do not use string's center method! </b>"
   ]
  },
  {
   "cell_type": "code",
   "execution_count": 54,
   "metadata": {},
   "outputs": [
    {
     "name": "stdout",
     "output_type": "stream",
     "text": [
      "        Hickory, dickory, dock,        \n",
      "        The mouse ran up the clock.        \n",
      "        The clock struck one,        \n",
      "        The mouse ran down,        \n",
      "        Hickory, dickory, dock        \n"
     ]
    }
   ],
   "source": [
    "line1 = \"Hickory, dickory, dock,\"\n",
    "line2 = \"The mouse ran up the clock.\"\n",
    "line3 = \"The clock struck one,\"\n",
    "line4 = \"The mouse ran down,\"\n",
    "line5 = \"Hickory, dickory, dock\"\n",
    "\n",
    "max_per_line=40\n",
    "space=' '\n",
    "\n",
    "spaces_left_and_right = max_per_line-len(line1)\n",
    "spacing=space*int(spaces_left_and_right/2)\n",
    "print(f\"{spacing}{line1}{spacing}\")\n",
    "\n",
    "spaces_left_and_right = max_per_line-len(line1)\n",
    "spacing=space*int(spaces_left_and_right/2)\n",
    "print(f\"{spacing}{line2}{spacing}\")\n",
    "\n",
    "spaces_left_and_right = max_per_line-len(line1)\n",
    "spacing=space*int(spaces_left_and_right/2)\n",
    "print(f\"{spacing}{line3}{spacing}\")\n",
    "\n",
    "spaces_left_and_right = max_per_line-len(line1)\n",
    "spacing=space*int(spaces_left_and_right/2)\n",
    "print(f\"{spacing}{line4}{spacing}\")\n",
    "\n",
    "spaces_left_and_right = max_per_line-len(line1)\n",
    "spacing=space*int(spaces_left_and_right/2)\n",
    "print(f\"{spacing}{line5}{spacing}\")"
   ]
  },
  {
   "cell_type": "markdown",
   "metadata": {},
   "source": [
    "5. Write a function to calculate the miles per gallon.\n",
    "Get a miles driven and gallons used from a user and call your function to calculate the miles per gallon. "
   ]
  },
  {
   "cell_type": "code",
   "execution_count": 34,
   "metadata": {},
   "outputs": [
    {
     "name": "stdout",
     "output_type": "stream",
     "text": [
      "Miles driven:5\n",
      "Gallons used:5\n",
      "1.0\n"
     ]
    }
   ],
   "source": [
    "def mpg(miles,gallons) :\n",
    "    numbers = miles/gallons\n",
    "    return numbers\n",
    "\n",
    "miles = float(input(\"Miles driven:\"))\n",
    "gallons = float(input(\"Gallons used:\"))\n",
    "print(mpg(miles,gallons))\n"
   ]
  },
  {
   "cell_type": "code",
   "execution_count": null,
   "metadata": {},
   "outputs": [],
   "source": []
  }
 ],
 "metadata": {
  "kernelspec": {
   "display_name": "Python 3",
   "language": "python",
   "name": "python3"
  },
  "language_info": {
   "codemirror_mode": {
    "name": "ipython",
    "version": 3
   },
   "file_extension": ".py",
   "mimetype": "text/x-python",
   "name": "python",
   "nbconvert_exporter": "python",
   "pygments_lexer": "ipython3",
   "version": "3.8.8"
  }
 },
 "nbformat": 4,
 "nbformat_minor": 4
}
